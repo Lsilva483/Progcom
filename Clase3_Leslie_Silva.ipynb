{
  "nbformat": 4,
  "nbformat_minor": 0,
  "metadata": {
    "colab": {
      "name": "Clase3-Leslie Silva",
      "provenance": [],
      "authorship_tag": "ABX9TyNC58o11b2/oQmD6hjMF7YA",
      "include_colab_link": true
    },
    "kernelspec": {
      "name": "python3",
      "display_name": "Python 3"
    },
    "language_info": {
      "name": "python"
    }
  },
  "cells": [
    {
      "cell_type": "markdown",
      "metadata": {
        "id": "view-in-github",
        "colab_type": "text"
      },
      "source": [
        "<a href=\"https://colab.research.google.com/github/Lsilva483/Progcom/blob/main/Clase3_Leslie_Silva.ipynb\" target=\"_parent\"><img src=\"https://colab.research.google.com/assets/colab-badge.svg\" alt=\"Open In Colab\"/></a>"
      ]
    },
    {
      "cell_type": "markdown",
      "source": [
        "##**EJERCICIOS CLASE 3**\n",
        "#1\n",
        "Escriba un programa que solicite dos números enteros y calcule su división. El programa debe definir si la división es exacta o no. Si no es exacta, debe imprimir cuál es su residuo. ¿Qué debería imprimir el programa si la división es entre cero?\n"
      ],
      "metadata": {
        "id": "J616jubvlYsu"
      }
    },
    {
      "cell_type": "code",
      "source": [
        "A=int(input(\"Ingrese un número \"))\n",
        "B=int(input(\"Ingrese otro número \"))\n",
        "if (B)==0:\n",
        "  print(\"Error Matemático\") \n",
        "else:\n",
        "  print(A/B)\n",
        "  if int(A%B)==0:\n",
        "   print(\"Es una división entera\") \n",
        "  elif (A%B)>0:\n",
        "   print(\"Es una división inexacta y el residuo es\",A%B)\n",
        "\n"
      ],
      "metadata": {
        "colab": {
          "base_uri": "https://localhost:8080/"
        },
        "id": "mrMW5z1Alj3T",
        "outputId": "ac5e92fe-bf73-43b6-b544-4410b1529b5e"
      },
      "execution_count": null,
      "outputs": [
        {
          "output_type": "stream",
          "name": "stdout",
          "text": [
            "Ingrese un número 20\n",
            "Ingrese otro número 0\n",
            "Error Matemático\n"
          ]
        }
      ]
    },
    {
      "cell_type": "markdown",
      "source": [
        "#2\n",
        "Escriba un programa que pida dos números e indique si uno es múltiplo del otro."
      ],
      "metadata": {
        "id": "wGivvOMPfyDo"
      }
    },
    {
      "cell_type": "code",
      "source": [
        "A=int(input(\"Ingrese un número \"))\n",
        "B=int(input(\"Ingrese otro número \"))\n",
        "if A%B ==0:\n",
        "  print(A,\"es múltiplo de \",B)\n",
        "else:\n",
        "  print(A,\"no es múltiplo de \",B)\n"
      ],
      "metadata": {
        "colab": {
          "base_uri": "https://localhost:8080/"
        },
        "id": "MnzUPUD1f7Va",
        "outputId": "6e1ec243-021f-49fb-f2f5-a19418da1055"
      },
      "execution_count": null,
      "outputs": [
        {
          "output_type": "stream",
          "name": "stdout",
          "text": [
            "Ingrese un número 8\n",
            "Ingrese otro número 4\n",
            "8 es múltiplo de  4\n"
          ]
        }
      ]
    },
    {
      "cell_type": "markdown",
      "source": [
        "#3\n",
        "Escriba un programa que ordene, de menor a mayor, las edades de tres hermanos. ¿Qué pasaría si son gemelos? ***¿Qué pasaría si son trillizos?***\n"
      ],
      "metadata": {
        "id": "F_y2akzjoVpZ"
      }
    },
    {
      "cell_type": "code",
      "source": [
        "A=int(input(\"Digite la edad del hermano #1 \"))\n",
        "B=int(input(\"Digite la edad del hermano #2 \"))\n",
        "C=int(input(\"Digite la edad del hermano #3 \"))\n",
        "#Funcion de phyton para encontrar el valor maximo y minimo de una lista \n",
        "N=min(A, B, C)\n",
        "M=max(A, B, C)\n",
        "L=(A+B+C)-N-M #Operacion para hallar el número intermedio\n",
        "if A==B:\n",
        "  print(\"El hermano #1 y #2 son gemelos\")\n",
        "elif A==C:\n",
        "   print(\"El hermano #1 y #3 son gemelos\")\n",
        "elif B==C:\n",
        "  print(\"El hermano #2 y #3 son gemelos\")\n",
        "    \n",
        "print(\"Las edades de los tres hermanos de menor a mayor son: {}, {} y {}\".format(N, L, M))\n"
      ],
      "metadata": {
        "colab": {
          "base_uri": "https://localhost:8080/"
        },
        "id": "6zdDSVQDvmY5",
        "outputId": "5fd8b9ed-6f3a-4716-95d0-506189226937"
      },
      "execution_count": null,
      "outputs": [
        {
          "output_type": "stream",
          "name": "stdout",
          "text": [
            "Digite la edad del hermano #1 20\n",
            "Digite la edad del hermano #2 5\n",
            "Digite la edad del hermano #3 10\n",
            "Las edades de los tres hermanos de menor a mayor son: 5, 10 y 20\n"
          ]
        }
      ]
    },
    {
      "cell_type": "markdown",
      "source": [
        "#4\n",
        "DIAN le ha contratado para identificar si una persona debe pagar impuesto de renta o no. ¿Qué datos debería suministrar? Escriba un programa con su solución.\n"
      ],
      "metadata": {
        "id": "b1JncfajAc69"
      }
    },
    {
      "cell_type": "code",
      "source": [
        "print(\"¡Bienvenido!, digita el valor total de sus ingresos mensuales y sabrás si pagarás impuesto de renta este año.\")\n",
        "X=int(input(\"Valor de sus ingresos mensuales \"))\n",
        "if (X*12)>=50831000:\n",
        "  print(\"Debe pagar Impuesto de Renta\")\n",
        "else:\n",
        "  print(\"No debe pagar Impuesto de Renta\")\n",
        "\n",
        " \n"
      ],
      "metadata": {
        "colab": {
          "base_uri": "https://localhost:8080/"
        },
        "id": "xFkfC-EXAg74",
        "outputId": "50daa7cc-e1a8-4f01-d17c-b66c82ed5da5"
      },
      "execution_count": null,
      "outputs": [
        {
          "output_type": "stream",
          "name": "stdout",
          "text": [
            "¡Bienvenido!, digita el valor total de sus ingresos mensuales y sabrás si pagarás impuesto de renta este año.\n",
            "Valor de sus ingresos mensuales 20000000\n",
            "Debe pagar Impuesto de Renta\n"
          ]
        }
      ]
    },
    {
      "cell_type": "markdown",
      "source": [
        "#8\n",
        "Escriba un programa que defina si un número es bisiesto. (Un año es bisiesto cuando son múltiplos de 4, pero no son múltiplos de 100.\n"
      ],
      "metadata": {
        "id": "EFgZSiHWL_0t"
      }
    },
    {
      "cell_type": "code",
      "source": [
        "B=int(input(\"Digita un número \"))\n",
        "if B%4==0:\n",
        "  if not B%100==0:\n",
        "   print(B,\"es un número bisiesto\")\n",
        "else:\n",
        "   print(f\" {B} no es un número bisiesto\")"
      ],
      "metadata": {
        "colab": {
          "base_uri": "https://localhost:8080/"
        },
        "id": "Y33a4e84MEI1",
        "outputId": "a12c7119-40b1-4cd7-e70a-94837058c8e6"
      },
      "execution_count": null,
      "outputs": [
        {
          "output_type": "stream",
          "name": "stdout",
          "text": [
            "Digita un número 2016\n",
            "2016 es un número bisiesto\n"
          ]
        }
      ]
    },
    {
      "cell_type": "markdown",
      "source": [
        "#19\n",
        "Escribir un programa que lea una palabra y defina si es un palíndromo. NOTA: Un palíndromo es una palabra que se lee igual adelante y hacia atrás.\n"
      ],
      "metadata": {
        "id": "18C3c83hRklG"
      }
    },
    {
      "cell_type": "markdown",
      "source": [
        "##INTENTO 1 FALLIDO##"
      ],
      "metadata": {
        "id": "5iWZXAPMWgC5"
      }
    },
    {
      "cell_type": "code",
      "source": [
        "P=str(input(\"Digita una palabra \"))\n",
        "#Para que una palabra sea palíndromo la posicion de dere a izq debe ser igual a la posicion de izq a dere, ej: Ana Posicion 0=2, sí es un palindromo\n",
        "A=0\n",
        "B=len(P)-1\n",
        "\n",
        "for i in range(0, len(P)):\n",
        "    if P[A]==P[B]:\n",
        "     A+=1\n",
        "     B-=1\n",
        "print(P,\"es una palabra palíndromo\")\n",
        "\n",
        "#me falta programarlo para cuando no es una palabra palíndromo\n",
        "   \n",
        "    \n"
      ],
      "metadata": {
        "colab": {
          "base_uri": "https://localhost:8080/"
        },
        "id": "Pj4TLYtURoJC",
        "outputId": "1dbbb0c9-6d33-4d6a-86d2-b032e6dd2e0b"
      },
      "execution_count": 18,
      "outputs": [
        {
          "output_type": "stream",
          "name": "stdout",
          "text": [
            "Digita una palabra oso\n",
            "oso es una palabra palíndromo\n"
          ]
        }
      ]
    },
    {
      "cell_type": "markdown",
      "source": [
        "##INTENTO 2 EXITOSO##"
      ],
      "metadata": {
        "id": "Q8VR5c71Wk5B"
      }
    },
    {
      "cell_type": "code",
      "source": [
        "P=str(input(\"Digita una palabra \"))\n",
        "rev= P[::-1]\n",
        "\n",
        "if (P==rev):\n",
        "  print(P, \"si es una palabra palíndromo\")\n",
        "else:\n",
        "  print(P,\"no es una palabra palíndromo\")  "
      ],
      "metadata": {
        "colab": {
          "base_uri": "https://localhost:8080/"
        },
        "id": "zLQXYeKOU7Ny",
        "outputId": "ea3dbc65-5db8-43e6-b1ca-c39ff38a83d0"
      },
      "execution_count": 22,
      "outputs": [
        {
          "output_type": "stream",
          "name": "stdout",
          "text": [
            "Digita una palabra Ana\n",
            "Ana no es una palabra palíndromo\n"
          ]
        }
      ]
    },
    {
      "cell_type": "markdown",
      "source": [
        "#15\n",
        "Escribir un programa que, dado un número entero, muestre su valor absoluto. \n"
      ],
      "metadata": {
        "id": "l3Zg3bgMa8Ci"
      }
    },
    {
      "cell_type": "markdown",
      "source": [
        "##INTENTO 1 USANDO LA FUNCION ABS(VARIABLE)"
      ],
      "metadata": {
        "id": "e3oCuDyRbUuh"
      }
    },
    {
      "cell_type": "code",
      "source": [
        "N=int(input(\"Digita un número\"))\n",
        "print(abs(N))"
      ],
      "metadata": {
        "colab": {
          "base_uri": "https://localhost:8080/"
        },
        "id": "jlrcot0SbBwD",
        "outputId": "d1833507-85ec-49d8-bb14-796f407f8283"
      },
      "execution_count": 23,
      "outputs": [
        {
          "output_type": "stream",
          "name": "stdout",
          "text": [
            "Digita un número-15\n",
            "15\n"
          ]
        }
      ]
    },
    {
      "cell_type": "markdown",
      "source": [
        "##INTENTO 2 CREANDO LA FUNCION##"
      ],
      "metadata": {
        "id": "5ZMlZFwbcuFK"
      }
    },
    {
      "cell_type": "code",
      "source": [
        "N=int(input(\"Digita un número\"))\n",
        "def valor_absoluto(número):\n",
        "  if número >=0:\n",
        "    return número\n",
        "  else:\n",
        "    return - número\n",
        "print(valor_absoluto(N))  "
      ],
      "metadata": {
        "colab": {
          "base_uri": "https://localhost:8080/"
        },
        "id": "epxVU_Xhbkop",
        "outputId": "e6a10678-3bd2-467f-d02a-69a9c6efa2e2"
      },
      "execution_count": 27,
      "outputs": [
        {
          "output_type": "stream",
          "name": "stdout",
          "text": [
            "Digita un número-890\n",
            "890\n"
          ]
        }
      ]
    },
    {
      "cell_type": "markdown",
      "source": [
        "#14\n",
        "Realizar un programa que solicite al usuario que escriba una letra, y defina si es vocal o consonante. El programa no debe funcionar (o indicar que es un error) si se intenta ingresar más de una letra o un número.\n"
      ],
      "metadata": {
        "id": "vMUZXl7pk7Gw"
      }
    },
    {
      "cell_type": "code",
      "source": [
        "L=str(input(\"Digita una letra \"))\n",
        "L=L.lower() #identifica la condicion sin importar que la letra que digites este en mayuscula o minuscula\n",
        "if L==\"a\" or L==\"e\" or L==\"i\" or L==\"o\" or L==\"u\":\n",
        "  print(L, \"es una vocal\")\n",
        "else:\n",
        "  print(L, \"es una consonante\")\n",
        "#ME HACE FALTA PROGRAMAR EL CODIGO PARA QUE NO FUNCIONE CUANDO SE DIGITA MAS DE UNA LETRA"
      ],
      "metadata": {
        "colab": {
          "base_uri": "https://localhost:8080/"
        },
        "id": "OTn9trcblL3i",
        "outputId": "6def1b08-a500-404a-8df6-0d2a0ab3142c"
      },
      "execution_count": 39,
      "outputs": [
        {
          "output_type": "stream",
          "name": "stdout",
          "text": [
            "Digita una letra O\n",
            "o es una vocal\n"
          ]
        }
      ]
    }
  ]
}