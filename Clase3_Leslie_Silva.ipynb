{
  "nbformat": 4,
  "nbformat_minor": 0,
  "metadata": {
    "colab": {
      "name": "Clase3-Leslie Silva",
      "provenance": []
    },
    "kernelspec": {
      "name": "python3",
      "display_name": "Python 3"
    },
    "language_info": {
      "name": "python"
    }
  },
  "cells": [
    {
      "cell_type": "markdown",
      "source": [
        "##**EJERCICIOS CLASE 3**\n",
        "#1"
      ],
      "metadata": {
        "id": "J616jubvlYsu"
      }
    },
    {
      "cell_type": "code",
      "source": [
        "A=int(input(\"Ingrese un número \"))\n",
        "B=int(input(\"Ingrese otro número \"))\n",
        "if (B)==0:\n",
        "  print(\"Error Matemático\") \n",
        "else:\n",
        "  print(A/B)\n",
        "  if int(A%B)==0:\n",
        "   print(\"Es una división entera\") \n",
        "  elif (A%B)>0:\n",
        "   print(\"Es una división inexacta y el residuo es\",A%B)\n",
        "\n"
      ],
      "metadata": {
        "colab": {
          "base_uri": "https://localhost:8080/"
        },
        "id": "mrMW5z1Alj3T",
        "outputId": "ac5e92fe-bf73-43b6-b544-4410b1529b5e"
      },
      "execution_count": 47,
      "outputs": [
        {
          "output_type": "stream",
          "name": "stdout",
          "text": [
            "Ingrese un número 20\n",
            "Ingrese otro número 0\n",
            "Error Matemático\n"
          ]
        }
      ]
    },
    {
      "cell_type": "code",
      "execution_count": null,
      "metadata": {
        "id": "MofcANWvdtPV"
      },
      "outputs": [],
      "source": [
        ""
      ]
    }
  ]
}