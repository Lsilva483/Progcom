{
  "nbformat": 4,
  "nbformat_minor": 0,
  "metadata": {
    "colab": {
      "provenance": [],
      "authorship_tag": "ABX9TyOjoSr8GEFejoYAcKDupCGu",
      "include_colab_link": true
    },
    "kernelspec": {
      "name": "python3",
      "display_name": "Python 3"
    },
    "language_info": {
      "name": "python"
    }
  },
  "cells": [
    {
      "cell_type": "markdown",
      "metadata": {
        "id": "view-in-github",
        "colab_type": "text"
      },
      "source": [
        "<a href=\"https://colab.research.google.com/github/Lsilva483/Progcom/blob/main/Prueba_Clasificatoria.ipynb\" target=\"_parent\"><img src=\"https://colab.research.google.com/assets/colab-badge.svg\" alt=\"Open In Colab\"/></a>"
      ]
    },
    {
      "cell_type": "code",
      "execution_count": 4,
      "metadata": {
        "colab": {
          "base_uri": "https://localhost:8080/"
        },
        "id": "KjO2F5cMwsJ-",
        "outputId": "6fd33610-04a6-4e2a-9e2f-69e8a3b70a33"
      },
      "outputs": [
        {
          "output_type": "execute_result",
          "data": {
            "text/plain": [
              "{'productos': ['combo 1',\n",
              "  'combo 2',\n",
              "  'combo 3',\n",
              "  'combo 4',\n",
              "  'papas',\n",
              "  'jugos naturales',\n",
              "  'cerveza',\n",
              "  'agua',\n",
              "  'gaseosas'],\n",
              " 'precios': (20000, 25000, 18000, 24500, 3000, 7000, 3500, 4000, 2500)}"
            ]
          },
          "metadata": {},
          "execution_count": 4
        }
      ],
      "source": [
        "diccionario={\"productos\":[\"combo 1\",\"combo 2\",\"combo 3\",\"combo 4\",\"papas\",\"jugos naturales\",\"cerveza\",\"agua\",\"gaseosas\"],\"precios\":(20000,25000,18000,24500,3000,7000,3500,4000,2500)}\n",
        "diccionario"
      ]
    },
    {
      "cell_type": "code",
      "source": [
        "diccionario={\"productos\":[\"combo 1 $20000\",\"combo 2 $25000\",\"combo 3 $18000\",\"combo 4 $24500\",\"papas $3000\",\"jugos naturales $7000\",\"cerveza $3500\",\"agua $4000\",\"gaseosas $2500\"]}\n",
        "\n"
      ],
      "metadata": {
        "colab": {
          "base_uri": "https://localhost:8080/"
        },
        "id": "WAe0syzI2YGD",
        "outputId": "7fd1b828-0b82-457c-c2c5-55df7886280e"
      },
      "execution_count": 5,
      "outputs": [
        {
          "output_type": "execute_result",
          "data": {
            "text/plain": [
              "{'productos': ['combo 1 $20000',\n",
              "  'combo 2 $25000',\n",
              "  'combo 3 $18000',\n",
              "  'combo 4 $24500',\n",
              "  'papas $3000',\n",
              "  'jugos naturales $7000',\n",
              "  'cerveza $3500',\n",
              "  'agua $4000',\n",
              "  'gaseosas $2500']}"
            ]
          },
          "metadata": {},
          "execution_count": 5
        }
      ]
    },
    {
      "cell_type": "code",
      "source": [
        "diccionario1={\"productos\":[\"combo 1\",\"combo 2\",\"combo 3\",\"combo 4\",\"papas\",\"jugos naturales\",\"cerveza\",\"agua\",\"gaseosas\"]}\n",
        "diccionario2={\"precios\":(20000,25000,18000,24500,3000,7000,3500,4000,2500)}\n",
        "print(\"Los productos disponibles para hoy son: \")\n",
        "print()\n",
        "print(\"Combo 1 $20000\\nCombo 2 $25000\\nCombo 3 $18000\\nCombo 4 $24500\\nPapas $3000\\nJugos naturales $7000\\nCerveza $3500\\nAgua $4000\\nGaseosas $2500\\n\")\n",
        "\n",
        "while mas==1:\n",
        "  item=str(input(\"Digita el nombre del producto que llevarás: \")).lower\n",
        "  cantidad=int(input(\"Digita la cantidad que deseas llevar: \"))\n",
        "  print()\n",
        "  print(\"Digita 1 si deseas comprar algo más, digita 2 en caso contrario. \")\n",
        "  mas=int(input(\" \"))\n",
        "\n"
      ],
      "metadata": {
        "colab": {
          "base_uri": "https://localhost:8080/"
        },
        "id": "rsua08WN559O",
        "outputId": "19ed3793-6626-4ee1-c08d-40410c35f4f3"
      },
      "execution_count": 37,
      "outputs": [
        {
          "output_type": "stream",
          "name": "stdout",
          "text": [
            "Los productos disponibles para hoy son: \n",
            "\n",
            "Combo 1 $20000\n",
            "Combo 2 $25000\n",
            "Combo 3 $18000\n",
            "Combo 4 $24500\n",
            "Papas $3000\n",
            "Jugos naturales $7000\n",
            "Cerveza $3500\n",
            "Agua $4000\n",
            "Gaseosas $2500\n",
            "\n"
          ]
        }
      ]
    },
    {
      "cell_type": "code",
      "source": [
        "diccionario1={\"combo 1\":20000,\"combo 2\":25000,\"combo 3\":18000,\"combo 4\":24500,\"papas\":3000,\"jugos naturales\":7000,\"cerveza\":3500,\"agua\":4000,\"gaseosas\":2500}\n",
        "print(\"Los productos disponibles para hoy son: \")\n",
        "print()\n",
        "print(\"Combo 1 $20000\\nCombo 2 $25000\\nCombo 3 $18000\\nCombo 4 $24500\\nPapas $3000\\nJugos naturales $7000\\nCerveza $3500\\nAgua $4000\\nGaseosas $2500\\n\")\n",
        "while mas==1:\n",
        "  item=str(input(\"Digita el nombre del producto que llevarás: \")).lower\n",
        "  cantidad=int(input(\"Digita la cantidad que deseas llevar: \"))\n",
        "  mas=int(input(\" \"))\n",
        "  if mas==2:\n",
        "    print(\"El valor total es\",diccionario1[item]*cantidad)"
      ],
      "metadata": {
        "colab": {
          "base_uri": "https://localhost:8080/"
        },
        "id": "EkKcM8fVBQEK",
        "outputId": "588d9e19-1919-44db-98ab-4c1b0cdf2be7"
      },
      "execution_count": 39,
      "outputs": [
        {
          "output_type": "stream",
          "name": "stdout",
          "text": [
            "Los productos disponibles para hoy son: \n",
            "\n",
            "Combo 1 $20000\n",
            "Combo 2 $25000\n",
            "Combo 3 $18000\n",
            "Combo 4 $24500\n",
            "Papas $3000\n",
            "Jugos naturales $7000\n",
            "Cerveza $3500\n",
            "Agua $4000\n",
            "Gaseosas $2500\n",
            "\n"
          ]
        }
      ]
    }
  ]
}