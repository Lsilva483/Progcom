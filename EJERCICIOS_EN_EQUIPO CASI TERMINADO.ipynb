{
  "nbformat": 4,
  "nbformat_minor": 0,
  "metadata": {
    "colab": {
      "name": "EJERCICIOS EN EQUIPO.ipynb",
      "provenance": [],
      "authorship_tag": "ABX9TyOtsqEg2imbCuJr56H2zi42",
      "include_colab_link": true
    },
    "kernelspec": {
      "name": "python3",
      "display_name": "Python 3"
    },
    "language_info": {
      "name": "python"
    }
  },
  "cells": [
    {
      "cell_type": "markdown",
      "metadata": {
        "id": "view-in-github",
        "colab_type": "text"
      },
      "source": [
        "<a href=\"https://colab.research.google.com/github/Lsilva483/Progcom/blob/main/EJERCICIOS_EN_EQUIPO%20CASI%20TERMINADO.ipynb\" target=\"_parent\"><img src=\"https://colab.research.google.com/assets/colab-badge.svg\" alt=\"Open In Colab\"/></a>"
      ]
    },
    {
      "cell_type": "markdown",
      "source": [
        "#5\n",
        "Leer 20 números y encontrar el mayor y el menor valor leídos.\n",
        "\n"
      ],
      "metadata": {
        "id": "6tfu-v-7kAto"
      }
    },
    {
      "cell_type": "markdown",
      "source": [
        "***CICLO FOR***"
      ],
      "metadata": {
        "id": "kA9BoVDc-4SS"
      }
    },
    {
      "cell_type": "code",
      "source": [
        "LISTA1 = []\n",
        "LISTA2 = []\n",
        "\n",
        "MAYOR = 0\n",
        "MENOR = 0\n",
        "\n",
        "for i in range (0,10):\n",
        "  N=int(input(\"Digita un número: \"))\n",
        "  LISTA1.append(int(N))\n",
        "  MAYOR=max(LISTA1)\n",
        "  MENOR=min(LISTA1)\n",
        "\n",
        " \n",
        "\n",
        "print(\"Los números ingresados son: \",LISTA1)\n",
        "print(\"El número mayor es: \",MAYOR)\n",
        "print(\"El número menor es: \",MENOR)\n",
        "\n",
        "  \n",
        "\n",
        " \n"
      ],
      "metadata": {
        "id": "oyKLO660sFXX",
        "colab": {
          "base_uri": "https://localhost:8080/"
        },
        "outputId": "8e8a3dc3-5113-4ab6-c079-2e1539b42536"
      },
      "execution_count": 27,
      "outputs": [
        {
          "output_type": "stream",
          "name": "stdout",
          "text": [
            "Digita un número: 2\n",
            "Digita un número: 1\n",
            "Digita un número: 78\n",
            "Digita un número: 90\n",
            "Digita un número: 54\n",
            "Digita un número: 23\n",
            "Digita un número: 75\n",
            "Digita un número: 24\n",
            "Digita un número: 90\n",
            "Digita un número: 32\n",
            "Los números ingresados son:  [2, 1, 78, 90, 54, 23, 75, 24, 90, 32]\n",
            "El número mayor es:  90\n",
            "El número menor es:  1\n"
          ]
        }
      ]
    },
    {
      "cell_type": "markdown",
      "source": [
        "***CICLO WHILE***"
      ],
      "metadata": {
        "id": "bf_frSGR-6Bx"
      }
    },
    {
      "cell_type": "code",
      "source": [
        "LISTA1 = []\n",
        "LISTA2 = []\n",
        "\n",
        "MAYOR = 0\n",
        "MENOR = 0\n",
        "\n",
        "i=1\n",
        "\n",
        "while i<11:\n",
        "  N=int(input(\"Digita un número: \"))\n",
        "  LISTA1.append(int(N))\n",
        "  MAYOR=max(LISTA1)\n",
        "  MENOR=min(LISTA1)\n",
        "\n",
        "  i=i+1\n",
        "\n",
        " \n",
        "\n",
        "print(\"Los números ingresados son: \",LISTA1)\n",
        "print(\"El número mayor es: \",MAYOR)\n",
        "print(\"El número menor es: \",MENOR)\n"
      ],
      "metadata": {
        "colab": {
          "base_uri": "https://localhost:8080/"
        },
        "id": "5Ls51QMh-79F",
        "outputId": "6f2b6939-212f-44f8-a5f0-28d0cb97865a"
      },
      "execution_count": 63,
      "outputs": [
        {
          "output_type": "stream",
          "name": "stdout",
          "text": [
            "Digita un número: 30\n",
            "Digita un número: 53\n",
            "Digita un número: 26\n",
            "Los números ingresados son:  [30, 53, 26]\n",
            "El número mayor es:  53\n",
            "El número menor es:  26\n"
          ]
        }
      ]
    },
    {
      "cell_type": "markdown",
      "source": [
        "#3\n",
        "Calcular la factorial de un número N (siendo N un número que se lee)."
      ],
      "metadata": {
        "id": "iPbZLx1vjTJM"
      }
    },
    {
      "cell_type": "code",
      "source": [
        "N=int(input(\"Digita un número \"))\n",
        "factorial=1\n",
        "if N<0:\n",
        "  print(\"Para este número no existe factorial\")\n",
        "else:\n",
        "  if N!=0:\n",
        "    for i in range (1,N+1):\n",
        "      factorial=factorial*i #contador\n",
        "  print(\"El número factorial de\",N,\"es\",factorial )"
      ],
      "metadata": {
        "colab": {
          "base_uri": "https://localhost:8080/"
        },
        "id": "G86YJGkDqP3s",
        "outputId": "d27bee96-197c-4e72-e728-e94c139fbb6a"
      },
      "execution_count": null,
      "outputs": [
        {
          "output_type": "stream",
          "name": "stdout",
          "text": [
            "Digita un número 3\n",
            "El número factorial de 3 es 6\n"
          ]
        }
      ]
    },
    {
      "cell_type": "markdown",
      "source": [
        "#1\n",
        "Indicar si un número N es un número primo"
      ],
      "metadata": {
        "id": "hGsPQ0LlJ45L"
      }
    },
    {
      "cell_type": "markdown",
      "source": [
        "***CICLO FOR***"
      ],
      "metadata": {
        "id": "7o_l0ne_9sJr"
      }
    },
    {
      "cell_type": "code",
      "source": [
        "#un número primo es aquel que solo es divisible por si mismo y por el número 1, el unico número par primo es el 2\n",
        "N=int(input(\"Digite un número para indicarle si es primo o no: \"))\n",
        "def PRIMO(N):\n",
        "  if N<=1:\n",
        "    return \"No es un número primo\" #return devuelve la función y no permite pasar a la sig linea de código\n",
        "  else:\n",
        "    for i in range (2,N):\n",
        "      if N % i == 0:\n",
        "        return \"No es primo\"\n",
        "    return \"Es primo\"\n",
        "PRIMO(N)\n"
      ],
      "metadata": {
        "colab": {
          "base_uri": "https://localhost:8080/",
          "height": 53
        },
        "id": "CbF05feuJ6yU",
        "outputId": "772ecd43-e55c-4af3-cc35-82fd010416ce"
      },
      "execution_count": 59,
      "outputs": [
        {
          "name": "stdout",
          "output_type": "stream",
          "text": [
            "Digite un número para indicarle si es primo o no: 75\n"
          ]
        },
        {
          "output_type": "execute_result",
          "data": {
            "text/plain": [
              "'No es primo'"
            ],
            "application/vnd.google.colaboratory.intrinsic+json": {
              "type": "string"
            }
          },
          "metadata": {},
          "execution_count": 59
        }
      ]
    },
    {
      "cell_type": "markdown",
      "source": [
        "***CICLO WHILE*** (me falta)"
      ],
      "metadata": {
        "id": "y7SAtLz99uKU"
      }
    },
    {
      "cell_type": "markdown",
      "source": [
        "#2\n",
        "Imprimir los 30 primeros números de Fibonacci. "
      ],
      "metadata": {
        "id": "XZApADZWN4jd"
      }
    },
    {
      "cell_type": "markdown",
      "source": [
        "***CICLO FOR***"
      ],
      "metadata": {
        "id": "aUQ7oDL_9M5z"
      }
    },
    {
      "cell_type": "code",
      "source": [
        "A=0 #número inicial\n",
        "B=1 #número final\n",
        "n=30 \n",
        "print(A)\n",
        "print(B) \n",
        "for i in range (n):\n",
        "  C=A+B\n",
        "  A=B\n",
        "  B=C\n",
        "  print(B)\n",
        "\n",
        "\n"
      ],
      "metadata": {
        "colab": {
          "base_uri": "https://localhost:8080/"
        },
        "id": "rK3jtGn_N647",
        "outputId": "2745f412-dd69-4196-db71-c64253614e71"
      },
      "execution_count": null,
      "outputs": [
        {
          "output_type": "stream",
          "name": "stdout",
          "text": [
            "0\n",
            "1\n",
            "1\n",
            "2\n",
            "3\n",
            "5\n",
            "8\n",
            "13\n",
            "21\n",
            "34\n",
            "55\n",
            "89\n",
            "144\n",
            "233\n",
            "377\n",
            "610\n",
            "987\n",
            "1597\n",
            "2584\n",
            "4181\n",
            "6765\n",
            "10946\n",
            "17711\n",
            "28657\n",
            "46368\n",
            "75025\n",
            "121393\n",
            "196418\n",
            "317811\n",
            "514229\n",
            "832040\n",
            "1346269\n"
          ]
        }
      ]
    },
    {
      "cell_type": "markdown",
      "source": [
        "***CICLO WHILE***"
      ],
      "metadata": {
        "id": "k3i6fTmG9P1C"
      }
    },
    {
      "cell_type": "code",
      "source": [
        "A=0 #número inicial\n",
        "B=1 #número final\n",
        "n=1 \n",
        "print(A)\n",
        "print(B) \n",
        "\n",
        "while n<31:\n",
        "  C=A+B\n",
        "  A=B\n",
        "  B=C\n",
        "  n=n+1\n",
        "  print(B)"
      ],
      "metadata": {
        "colab": {
          "base_uri": "https://localhost:8080/"
        },
        "id": "8VNA4jQO9Sol",
        "outputId": "aba67be3-38ba-4c66-8451-0cedd5aece80"
      },
      "execution_count": 51,
      "outputs": [
        {
          "output_type": "stream",
          "name": "stdout",
          "text": [
            "0\n",
            "1\n",
            "1\n",
            "2\n",
            "3\n",
            "5\n",
            "8\n",
            "13\n",
            "21\n",
            "34\n",
            "55\n",
            "89\n",
            "144\n",
            "233\n",
            "377\n",
            "610\n",
            "987\n",
            "1597\n",
            "2584\n",
            "4181\n",
            "6765\n",
            "10946\n",
            "17711\n",
            "28657\n",
            "46368\n",
            "75025\n",
            "121393\n",
            "196418\n",
            "317811\n",
            "514229\n",
            "832040\n",
            "1346269\n"
          ]
        }
      ]
    },
    {
      "cell_type": "markdown",
      "source": [
        "#4\n",
        "Calcular la factorial de 10 números diferentes cuyos valores se leen."
      ],
      "metadata": {
        "id": "4r9tUnjtVDfd"
      }
    },
    {
      "cell_type": "markdown",
      "source": [
        "***CICLO FOR***"
      ],
      "metadata": {
        "id": "khEE8VV-8XIC"
      }
    },
    {
      "cell_type": "code",
      "source": [
        "from math import factorial\n",
        "for i in range (0,10):\n",
        "  N=int(input(\"Digita un número: \"))\n",
        "  if N<=1:\n",
        "    print(\"No existe factorial\")\n",
        "  else:\n",
        "   print(\"El número factorial es\",factorial(N))\n",
        "\n",
        "\n"
      ],
      "metadata": {
        "colab": {
          "base_uri": "https://localhost:8080/"
        },
        "id": "bYZIyo1JVEo7",
        "outputId": "aa4d9671-53b8-4b1c-b889-a65724148e85"
      },
      "execution_count": null,
      "outputs": [
        {
          "output_type": "stream",
          "name": "stdout",
          "text": [
            "Digita un número: 4\n",
            "El número factorial es 24\n",
            "Digita un número: 5\n",
            "El número factorial es 120\n",
            "Digita un número: 1\n",
            "No existe factorial\n",
            "Digita un número: -7\n",
            "No existe factorial\n",
            "Digita un número: 2\n",
            "El número factorial es 2\n",
            "Digita un número: -10\n",
            "No existe factorial\n",
            "Digita un número: 8\n",
            "El número factorial es 40320\n",
            "Digita un número: 3\n",
            "El número factorial es 6\n",
            "Digita un número: 6\n",
            "El número factorial es 720\n",
            "Digita un número: 1\n",
            "No existe factorial\n"
          ]
        }
      ]
    },
    {
      "cell_type": "markdown",
      "source": [
        "***CICLO WHILE***"
      ],
      "metadata": {
        "id": "x0CpBjYO8drq"
      }
    },
    {
      "cell_type": "code",
      "source": [
        "from math import factorial\n",
        "i=1\n",
        "while i<11:\n",
        "  N=int(input(\"Digita un número: \"))\n",
        "  if N<=1:\n",
        "    print(\"No existe factorial\")\n",
        "  else:\n",
        "   print(\"El número factorial es\",factorial(N))\n",
        "\n",
        "   i=i+1"
      ],
      "metadata": {
        "colab": {
          "base_uri": "https://localhost:8080/"
        },
        "id": "YnPzHLBV8frU",
        "outputId": "feba4f86-a612-4e0e-b2db-57542e0cd15d"
      },
      "execution_count": 50,
      "outputs": [
        {
          "output_type": "stream",
          "name": "stdout",
          "text": [
            "Digita un número: 2\n",
            "El número factorial es 2\n",
            "Digita un número: 6\n",
            "El número factorial es 720\n",
            "Digita un número: 5\n",
            "El número factorial es 120\n",
            "Digita un número: 2\n",
            "El número factorial es 2\n",
            "Digita un número: 3\n",
            "El número factorial es 6\n"
          ]
        }
      ]
    },
    {
      "cell_type": "markdown",
      "source": [
        "#6\n",
        "Mostrar la tabla de multiplicar del número que seleccione el usuario. Revisar que esté en el rango\n",
        "de 1 a 10."
      ],
      "metadata": {
        "id": "ATlpxoLwkwOS"
      }
    },
    {
      "cell_type": "markdown",
      "source": [
        "***CICLO FOR***\n"
      ],
      "metadata": {
        "id": "MYfZbc-Q65W6"
      }
    },
    {
      "cell_type": "code",
      "source": [
        "n=int(input(\"¿Qué tabla de multiplicar deseas generar? \"))\n",
        "print(\"Tabla del \"+str(n)) # o ponerle f\"tabla del {n}\"\n",
        "for i in range (1,11): #para que la tabla de multiplicación salga del 1 hasta el 10\n",
        " print(n,\"X\",i,\"=\",n*i)"
      ],
      "metadata": {
        "colab": {
          "base_uri": "https://localhost:8080/"
        },
        "id": "9n5Lg5oKkyfj",
        "outputId": "41e5db0a-db8e-4380-8c3e-3685a4ba7e53"
      },
      "execution_count": 28,
      "outputs": [
        {
          "output_type": "stream",
          "name": "stdout",
          "text": [
            "¿Qué tabla de multiplicar deseas generar? 8\n",
            "Tabla del 8\n",
            "8 X 1 = 8\n",
            "8 X 2 = 16\n",
            "8 X 3 = 24\n",
            "8 X 4 = 32\n",
            "8 X 5 = 40\n",
            "8 X 6 = 48\n",
            "8 X 7 = 56\n",
            "8 X 8 = 64\n",
            "8 X 9 = 72\n",
            "8 X 10 = 80\n"
          ]
        }
      ]
    },
    {
      "cell_type": "markdown",
      "source": [
        "***CICLO WHILE***"
      ],
      "metadata": {
        "id": "ir8vl16s7GVq"
      }
    },
    {
      "cell_type": "code",
      "source": [
        "i=1\n",
        "N=int(input(\"¿Qué tabla de multiplicar deseas generar? \"))\n",
        "\n",
        "while i<11:\n",
        "  print(N,\"X\",i,\"=\",N*i)\n",
        "  i=i+1\n",
        "\n",
        "\n"
      ],
      "metadata": {
        "colab": {
          "base_uri": "https://localhost:8080/"
        },
        "id": "Rq68ykdl7JR9",
        "outputId": "454d2509-8561-4e8d-8425-2a1233d30e8c"
      },
      "execution_count": 46,
      "outputs": [
        {
          "output_type": "stream",
          "name": "stdout",
          "text": [
            "¿Qué tabla de multiplicar deseas generar? 2\n",
            "2 X 1 = 2\n",
            "2 X 2 = 4\n",
            "2 X 3 = 6\n",
            "2 X 4 = 8\n",
            "2 X 5 = 10\n",
            "2 X 6 = 12\n",
            "2 X 7 = 14\n",
            "2 X 8 = 16\n",
            "2 X 9 = 18\n",
            "2 X 10 = 20\n"
          ]
        }
      ]
    },
    {
      "cell_type": "markdown",
      "source": [
        "#7\n",
        "Calcular la suma siguiente: 100+90+80+70+…+0"
      ],
      "metadata": {
        "id": "zXhWmG93lHr0"
      }
    },
    {
      "cell_type": "code",
      "source": [
        "A=100\n",
        "SERIE=10\n",
        "X=0\n",
        "SUMA=0\n",
        "while X>=100:\n",
        "  SUMA=A+(A-SERIE)\n",
        "  X=X+10\n",
        "print(SUMA)\n",
        "# ME FALTA TERMINARLOS"
      ],
      "metadata": {
        "colab": {
          "base_uri": "https://localhost:8080/"
        },
        "id": "dGHZ7JTvlNhb",
        "outputId": "6099ed9d-6d28-4d7d-94a5-c22ae07f4e9a"
      },
      "execution_count": 43,
      "outputs": [
        {
          "output_type": "stream",
          "name": "stdout",
          "text": [
            "0\n"
          ]
        }
      ]
    },
    {
      "cell_type": "markdown",
      "source": [],
      "metadata": {
        "id": "ysTMoSSqtKAq"
      }
    }
  ]
}