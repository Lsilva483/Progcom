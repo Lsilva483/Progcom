{
  "nbformat": 4,
  "nbformat_minor": 0,
  "metadata": {
    "colab": {
      "provenance": [],
      "authorship_tag": "ABX9TyNX3MWwLxmphoX3C2lQB9rC",
      "include_colab_link": true
    },
    "kernelspec": {
      "name": "python3",
      "display_name": "Python 3"
    },
    "language_info": {
      "name": "python"
    }
  },
  "cells": [
    {
      "cell_type": "markdown",
      "metadata": {
        "id": "view-in-github",
        "colab_type": "text"
      },
      "source": [
        "<a href=\"https://colab.research.google.com/github/Lsilva483/Progcom/blob/main/cursos.ipynb\" target=\"_parent\"><img src=\"https://colab.research.google.com/assets/colab-badge.svg\" alt=\"Open In Colab\"/></a>"
      ]
    },
    {
      "cell_type": "code",
      "execution_count": null,
      "metadata": {
        "id": "Lal6vkYYHHy1",
        "colab": {
          "base_uri": "https://localhost:8080/"
        },
        "outputId": "7de82d11-c8a5-4715-9643-f078dd8e6e01"
      },
      "outputs": [
        {
          "output_type": "stream",
          "name": "stdout",
          "text": [
            "Bienvenido\n",
            " \n",
            "Cursos Activos: \n",
            "cursos : curso 1\n",
            "curso 2 : curso 3\n"
          ]
        }
      ],
      "source": [
        "diccionario={\"cursos\":\"curso 1\",\"curso 2\":\"curso 3\"}\n",
        "print(\"Bienvenido\")\n",
        "print(\" \")\n",
        "print(\"Cursos Activos: \")\n",
        "for i in diccionario:\n",
        "  print(i,\":\", diccionario[i])\n"
      ]
    }
  ]
}