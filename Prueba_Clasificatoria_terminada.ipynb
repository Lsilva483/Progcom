{
  "nbformat": 4,
  "nbformat_minor": 0,
  "metadata": {
    "colab": {
      "provenance": [],
      "collapsed_sections": [],
      "authorship_tag": "ABX9TyNx1CNvVId9caToVebxu/lc",
      "include_colab_link": true
    },
    "kernelspec": {
      "name": "python3",
      "display_name": "Python 3"
    },
    "language_info": {
      "name": "python"
    }
  },
  "cells": [
    {
      "cell_type": "markdown",
      "metadata": {
        "id": "view-in-github",
        "colab_type": "text"
      },
      "source": [
        "<a href=\"https://colab.research.google.com/github/Lsilva483/Progcom/blob/main/Prueba_Clasificatoria_terminada.ipynb\" target=\"_parent\"><img src=\"https://colab.research.google.com/assets/colab-badge.svg\" alt=\"Open In Colab\"/></a>"
      ]
    },
    {
      "cell_type": "code",
      "source": [
        "from ast import Break\n",
        "diccionario1={\"combo 1\":20000,\"combo 2\":25000,\"combo 3\":18000,\"combo 4\":24500,\"papas\":3000,\"jugos naturales\":7000,\"cerveza\":3500,\"agua\":4000,\"gaseosas\":2500}\n",
        "print(\"Los productos disponibles para hoy son: \")\n",
        "print()\n",
        " \n",
        "factura=[]\n",
        "valores=[]\n",
        "totaldia=[]\n",
        "\n",
        "for i in diccionario1:\n",
        "  print(i,\": $\", diccionario1[i])\n",
        "  \n",
        "mas=1\n",
        "print(\"\")\n",
        "while True:\n",
        "  \n",
        "  while mas==1:\n",
        "    precios=0\n",
        "    print(\"\\n \")\n",
        "    item=input(\"Digita el nombre del producto que llevarás: \").lower()\n",
        "    cantidad=int(input(\"Digita la cantidad que deseas llevar: \"))\n",
        "    print(\"Digita 1 si deseas comprar algo más, digita 2 en caso contrario: \")\n",
        "    mas=int(input(\" \"))\n",
        "    valor=diccionario1.get(item)*cantidad\n",
        "    precios=precios + valor\n",
        "    factura.append(f\"{item} * {cantidad} = $ {precios}\")\n",
        "    valores.append(precios)\n",
        "    suma=sum(valores)\n",
        "    \n",
        "    if mas==2:\n",
        "      print(\"---------Factura----------\")    \n",
        "      for i in factura:\n",
        "        print(i)\n",
        "  print(\"Valor Total -> $\",suma)\n",
        "  totaldia.append(suma)\n",
        "  print(\"--------------------------\")\n",
        "  \n",
        "     \n",
        "\n",
        "  fin=input(\"¿El día se ha acabado? (Si/No) :\").lower()\n",
        "  if fin==\"si\":\n",
        "    sumadia=sum(totaldia)\n",
        "    print(\"La cantidad de dinero recaudado en el día es: $\",sumadia)\n",
        "    break\n",
        "    \n",
        "    \n",
        "  else:\n",
        "    mas=1\n",
        "    factura.clear()\n",
        "    valores.clear()\n",
        "    continue\n",
        "\n"
      ],
      "metadata": {
        "colab": {
          "base_uri": "https://localhost:8080/"
        },
        "id": "EkKcM8fVBQEK",
        "outputId": "a6cb38ad-1b1d-401c-99de-e0ee0d7e6389"
      },
      "execution_count": 41,
      "outputs": [
        {
          "output_type": "stream",
          "name": "stdout",
          "text": [
            "Los productos disponibles para hoy son: \n",
            "\n",
            "combo 1 : $ 20000\n",
            "combo 2 : $ 25000\n",
            "combo 3 : $ 18000\n",
            "combo 4 : $ 24500\n",
            "papas : $ 3000\n",
            "jugos naturales : $ 7000\n",
            "cerveza : $ 3500\n",
            "agua : $ 4000\n",
            "gaseosas : $ 2500\n",
            "\n",
            "\n",
            " \n",
            "Digita el nombre del producto que llevarás: agua\n",
            "Digita la cantidad que deseas llevar: 5\n",
            "Digita 1 si deseas comprar algo más, digita 2 en caso contrario: \n",
            " 2\n",
            "---------Factura----------\n",
            "agua * 5 = $ 20000\n",
            "Valor Total -> $ 20000\n",
            "--------------------------\n",
            "¿El día se ha acabado? (Si/No) :gaseosas\n",
            "\n",
            " \n",
            "Digita el nombre del producto que llevarás: gaseosas\n",
            "Digita la cantidad que deseas llevar: 2\n",
            "Digita 1 si deseas comprar algo más, digita 2 en caso contrario: \n",
            " 2\n",
            "---------Factura----------\n",
            "gaseosas * 2 = $ 5000\n",
            "Valor Total -> $ 5000\n",
            "--------------------------\n",
            "¿El día se ha acabado? (Si/No) :no\n",
            "\n",
            " \n",
            "Digita el nombre del producto que llevarás: combo 1\n",
            "Digita la cantidad que deseas llevar: 2\n",
            "Digita 1 si deseas comprar algo más, digita 2 en caso contrario: \n",
            " 1\n",
            "\n",
            " \n",
            "Digita el nombre del producto que llevarás: combo 2\n",
            "Digita la cantidad que deseas llevar: 1\n",
            "Digita 1 si deseas comprar algo más, digita 2 en caso contrario: \n",
            " 1\n",
            "\n",
            " \n",
            "Digita el nombre del producto que llevarás: combo 3\n",
            "Digita la cantidad que deseas llevar: 2\n",
            "Digita 1 si deseas comprar algo más, digita 2 en caso contrario: \n",
            " 2\n",
            "---------Factura----------\n",
            "combo 1 * 2 = $ 40000\n",
            "combo 2 * 1 = $ 25000\n",
            "combo 3 * 2 = $ 36000\n",
            "Valor Total -> $ 101000\n",
            "--------------------------\n",
            "¿El día se ha acabado? (Si/No) :si\n",
            "La cantidad de dinero recaudado en el día es: $ 126000\n"
          ]
        }
      ]
    }
  ]
}