{
  "nbformat": 4,
  "nbformat_minor": 0,
  "metadata": {
    "colab": {
      "name": "EJERCICIOS EN EQUIPO.ipynb",
      "provenance": [],
      "authorship_tag": "ABX9TyPLgeO8WBJwNOEu0DUU7Dyg",
      "include_colab_link": true
    },
    "kernelspec": {
      "name": "python3",
      "display_name": "Python 3"
    },
    "language_info": {
      "name": "python"
    }
  },
  "cells": [
    {
      "cell_type": "markdown",
      "metadata": {
        "id": "view-in-github",
        "colab_type": "text"
      },
      "source": [
        "<a href=\"https://colab.research.google.com/github/Lsilva483/Progcom/blob/main/Ejercicio%20hecho%2023/08/22.ipynb\" target=\"_parent\"><img src=\"https://colab.research.google.com/assets/colab-badge.svg\" alt=\"Open In Colab\"/></a>"
      ]
    },
    {
      "cell_type": "markdown",
      "source": [
        "##Leer 20 números y encontrar el mayor y el menor valor leídos.\n",
        "\n"
      ],
      "metadata": {
        "id": "6tfu-v-7kAto"
      }
    },
    {
      "cell_type": "code",
      "source": [
        "LIMITE=3\n",
        "CONTADOR=1\n",
        "N=0 #número menor\n",
        "M=0 #número mayor \n",
        "while(CONTADOR <= LIMITE):\n",
        " \n",
        "  MUESTRA = \"Digita el número \"+str(CONTADOR)+\": \"\n",
        "  NUM=int(input(MUESTRA)) #el valor que ingresa\n",
        "  CONTADOR=CONTADOR + 1\n",
        "\n",
        "   if NUM > NUM :\n",
        "   print(\"el numero mayor es \",M)\n",
        "  \n"
      ],
      "metadata": {
        "colab": {
          "base_uri": "https://localhost:8080/",
          "height": 130
        },
        "id": "9b1mYlMck_BF",
        "outputId": "ef7af199-1b15-48c3-8bf6-8f833780e44c"
      },
      "execution_count": 13,
      "outputs": [
        {
          "output_type": "error",
          "ename": "IndentationError",
          "evalue": "ignored",
          "traceback": [
            "\u001b[0;36m  File \u001b[0;32m\"<ipython-input-13-f407e9391f3d>\"\u001b[0;36m, line \u001b[0;32m11\u001b[0m\n\u001b[0;31m    if NUM >= NUM :\u001b[0m\n\u001b[0m    ^\u001b[0m\n\u001b[0;31mIndentationError\u001b[0m\u001b[0;31m:\u001b[0m unexpected indent\n"
          ]
        }
      ]
    },
    {
      "cell_type": "code",
      "execution_count": null,
      "metadata": {
        "id": "gUMG_WLkj8ax"
      },
      "outputs": [],
      "source": [
        ""
      ]
    }
  ]
}