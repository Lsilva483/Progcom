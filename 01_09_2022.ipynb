{
  "nbformat": 4,
  "nbformat_minor": 0,
  "metadata": {
    "colab": {
      "provenance": [],
      "authorship_tag": "ABX9TyOVavER9zvXvFhhZGClJ3EL",
      "include_colab_link": true
    },
    "kernelspec": {
      "name": "python3",
      "display_name": "Python 3"
    },
    "language_info": {
      "name": "python"
    }
  },
  "cells": [
    {
      "cell_type": "markdown",
      "metadata": {
        "id": "view-in-github",
        "colab_type": "text"
      },
      "source": [
        "<a href=\"https://colab.research.google.com/github/Lsilva483/Progcom/blob/main/01_09_2022.ipynb\" target=\"_parent\"><img src=\"https://colab.research.google.com/assets/colab-badge.svg\" alt=\"Open In Colab\"/></a>"
      ]
    },
    {
      "cell_type": "markdown",
      "source": [
        "#Programe Piedra, papel, tijera, spock, lagarto, Papa y heavy usando arreglos."
      ],
      "metadata": {
        "id": "U99T5jos49jf"
      }
    },
    {
      "cell_type": "code",
      "source": [
        "import random\n",
        "import time\n",
        "print(\"Bienvenido!,esto es PIEDRA, PAPEL, TIJERA, SPOCK, LAGARTO, PAPA, HEAVY\")\n",
        "print(\" \")\n",
        "\n",
        "while True:\n",
        "  YOU=input(\"Para empezar a jugar digita piedra, papel, tijera, spock, lagarto, papa o heavy - \").lower()\n",
        "  time.sleep(0.4) #para dormir o pausar el codigo por x segundos\n",
        "  PC=random.choice([\"piedra\", \"tijera\", \"papel\", \"spock\", \"lagarto\", \"papa\", \"heavy\"]) #choice elige aleotariamente datos de una lista\n",
        "  time.sleep(0.4)\n",
        "  if YOU!=\"piedra\" and YOU!=\"papel\" and YOU!=\"tijera\" and YOU!=\"spock\" and YOU!=\"lagarto\" and YOU!=\"papa\" and YOU!=\"heavy\":\n",
        "    time.sleep(0.4)\n",
        "    print(\"OJO! Digita una opción valida\")\n",
        "    print(\" \")\n",
        "    continue  #si cumple esa condicion, se reininicia el codigo. Si no, pasa al ciclo\n",
        "\n",
        "  if YOU==PC:\n",
        "    print(\"\\U0001F922 EMPATE. Has elegido\",YOU,\"y el pc ha elegido:\",PC) #UNA FORMA DE IMPRIMIR EMOJIS ES USANDO Unicodes, SE  BUSCA LOS CODIGOS POR INTERNET Y PARA QUE IMPRIMA SE LE ANTEPONE AL CODIGO \\\n",
        "    time.sleep(0.4)\n",
        "    print(\" \")\n",
        "  elif YOU==\"piedra\" and PC==\"tijera\":\n",
        "    print(\"HAS GANADO!. Has elegido\",YOU,\"y el pc ha elegido:\",PC)\n",
        "    time.sleep(0.4)\n",
        "    print(\" \")\n",
        "  elif YOU==\"papel\" and PC==\"piedra\":\n",
        "    print(\"HAS GANADO!. Has elegido\",YOU,\"y el pc ha elegido:\",PC)\n",
        "    time.sleep(0.4)\n",
        "    print(\" \")\n",
        "  elif YOU==\"tijera\" and PC==\"papel\":\n",
        "    print(\"HAS GANADO!. Has elegido\",YOU,\"y el pc ha elegido:\",PC)\n",
        "    time.sleep(0.4)\n",
        "    print(\" \")\n",
        "  elif YOU==\"piedra\" and PC==\"lagarto\":\n",
        "    print(\"HAS GANADO!. Has elegido\",YOU,\"y el pc ha elegido:\",PC)\n",
        "    time.sleep(0.4)\n",
        "    print(\" \")\n",
        "  elif YOU==\"lagarto\" and PC==\"spock\":\n",
        "    print(\"HAS GANADO!. Has elegido\",YOU,\"y el pc ha elegido:\",PC)\n",
        "    time.sleep(0.4)\n",
        "    print(\" \")\n",
        "  elif YOU==\"spock\" and PC==\"tijeras\":\n",
        "    print(\"HAS GANADO!. Has elegido\",YOU,\"y el pc ha elegido:\",PC)\n",
        "    time.sleep(0.4)\n",
        "    print(\" \")\n",
        "  elif YOU==\"tijera\" and PC==\"lagarto\":\n",
        "    print(\"HAS GANADO!. Has elegido\",YOU,\"y el pc ha elegido:\",PC)\n",
        "    time.sleep(0.4)\n",
        "    print(\" \")\n",
        "  elif YOU==\"lagarto\" and PC==\"papel\":\n",
        "    print(\"HAS GANADO!. Has elegido\",YOU,\"y el pc ha elegido:\",PC)\n",
        "    time.sleep(0.4)\n",
        "    print(\" \")\n",
        "  elif YOU==\"papel\" and PC==\"spock\":\n",
        "    print(\"HAS GANADO!. Has elegido\",YOU,\"y el pc ha elegido:\",PC)\n",
        "    time.sleep(0.4)\n",
        "    print(\" \")\n",
        "  elif YOU==\"spock\" and PC==\"piedra\":\n",
        "    print(\"HAS GANADO!. Has elegido\",YOU,\"y el pc ha elegido:\",PC)\n",
        "    time.sleep(0.4)\n",
        "    print(\" \")\n",
        "  elif YOU==\"heavy\" and PC==\"papa\":\n",
        "    print(\"HAS GANADO!. Has elegido\",YOU,\"y el pc ha elegido:\",PC)\n",
        "    time.sleep(0.4)\n",
        "    print(\" \")\n",
        "  elif YOU==\"heavy\" and PC==\"lagarto\":\n",
        "    print(\"HAS GANADO!. Has elegido\",YOU,\"y el pc ha elegido:\",PC)\n",
        "    time.sleep(0.4)\n",
        "    print(\" \")\n",
        "  elif YOU==\"papa\" and PC==\"piedra\":\n",
        "    print(\"HAS GANADO!. Has elegido\",YOU,\"y el pc ha elegido:\",PC)\n",
        "    time.sleep(0.4)\n",
        "    print(\" \")\n",
        "  elif YOU==\"papa\" and PC==\"papel\":\n",
        "    print(\"HAS GANADO!. Has elegido\",YOU,\"y el pc ha elegido:\",PC)\n",
        "    time.sleep(0.4)\n",
        "    print(\" \")\n",
        "  \n",
        "  else:\n",
        "    print(\"Oh no,PERDISTE. Has elegido\",YOU,\"y el pc ha elegido:\",PC)\n",
        "    time.sleep(0.4)\n",
        "    print(\" \")\n"
      ],
      "metadata": {
        "colab": {
          "base_uri": "https://localhost:8080/"
        },
        "id": "oUM3PsKR480f",
        "outputId": "621b8c16-ed0c-4272-be76-cf2825c1464a"
      },
      "execution_count": null,
      "outputs": [
        {
          "output_type": "stream",
          "name": "stdout",
          "text": [
            "Bienvenido!,esto es PIEDRA, PAPEL, TIJERA, SPOCK, LAGARTO, PAPA, HEAVY\n",
            " \n",
            "Para empezar a jugar digita piedra, papel, tijera, spock, lagarto, papa o heavy - heavy\n",
            "Oh no,PERDISTE. Has elegido heavy y el pc ha elegido: spock\n",
            " \n",
            "Para empezar a jugar digita piedra, papel, tijera, spock, lagarto, papa o heavy - spock\n",
            "Oh no,PERDISTE. Has elegido spock y el pc ha elegido: heavy\n",
            " \n"
          ]
        }
      ]
    }
  ]
}