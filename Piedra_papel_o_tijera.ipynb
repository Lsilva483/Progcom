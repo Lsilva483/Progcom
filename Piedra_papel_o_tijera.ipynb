{
  "nbformat": 4,
  "nbformat_minor": 0,
  "metadata": {
    "colab": {
      "name": "Piedra papel o tijera.ipynb",
      "provenance": [],
      "authorship_tag": "ABX9TyMlIaVkh7LnRX2of3gl0pdB",
      "include_colab_link": true
    },
    "kernelspec": {
      "name": "python3",
      "display_name": "Python 3"
    },
    "language_info": {
      "name": "python"
    }
  },
  "cells": [
    {
      "cell_type": "markdown",
      "metadata": {
        "id": "view-in-github",
        "colab_type": "text"
      },
      "source": [
        "<a href=\"https://colab.research.google.com/github/Lsilva483/Progcom/blob/main/Piedra_papel_o_tijera.ipynb\" target=\"_parent\"><img src=\"https://colab.research.google.com/assets/colab-badge.svg\" alt=\"Open In Colab\"/></a>"
      ]
    },
    {
      "cell_type": "code",
      "source": [
        "import random\n",
        "import time\n",
        "print(\"Bienvenido!,esto es PIEDRA PAPEL O TIJERA\")\n",
        "print(\" \")\n",
        "\n",
        "while True:\n",
        "  YOU=input(\"Para empezar a jugar digita piedra, papel o tijera - \").lower()\n",
        "  time.sleep(0.4)\n",
        "  PC=random.choice([\"piedra\", \"tijera\", \"papel\"])\n",
        "  time.sleep(0.4)\n",
        "  if YOU!=\"piedra\" and YOU!=\"papel\" and YOU!=\"tijera\":\n",
        "    time.sleep(0.4)\n",
        "    print(\"OJO! Digita una opción valida\")\n",
        "    print(\" \")\n",
        "    continue\n",
        "\n",
        "  if YOU==PC:\n",
        "    print(\"\\U0001F922 EMPATE. Has elegido\",YOU,\"y el pc ha elegido:\",PC) #UNA FORMA DE IMPRIMIR EMOJIS ES USANDO Unicodes, SE  BUSCA LOS CODIGOS POR INTERNET Y PARA QUE IMPRIMA SE LE ANTEPONE AL CODIGO \\\n",
        "    time.sleep(0.4)\n",
        "    print(\" \")\n",
        "  elif YOU==\"piedra\" and PC==\"tijera\":\n",
        "    print(\"HAS GANADO!. Has elegido\",YOU,\"y el pc ha elegido:\",PC)\n",
        "    time.sleep(0.4)\n",
        "    print(\" \")\n",
        "  elif YOU==\"papel\" and PC==\"piedra\":\n",
        "    print(\"HAS GANADO!. Has elegido\",YOU,\"y el pc ha elegido:\",PC)\n",
        "    time.sleep(0.4)\n",
        "    print(\" \")\n",
        "  elif YOU==\"tijera\" and PC==\"papel\":\n",
        "    print(\"HAS GANADO!. Has elegido\",YOU,\"y el pc ha elegido:\",PC)\n",
        "    time.sleep(0.4)\n",
        "    print(\" \")\n",
        "  else:\n",
        "    print(\"Oh no,PERDISTE. Has elegido\",YOU,\"y el pc ha elegido:\",PC)\n",
        "    time.sleep(0.4)\n",
        "    print(\" \")\n",
        "\n",
        "\n",
        "\n"
      ],
      "metadata": {
        "colab": {
          "base_uri": "https://localhost:8080/"
        },
        "id": "F-W8Utv0OBOa",
        "outputId": "6d4a6083-3faa-4d15-fbdc-78c439084277"
      },
      "execution_count": null,
      "outputs": [
        {
          "output_type": "stream",
          "name": "stdout",
          "text": [
            "Bienvenido!,esto es PIEDRA PAPEL O TIJERA\n",
            " \n",
            "Para empezar a jugar digita piedra, papel o tijera - PIEDRA\n",
            "🤢 EMPATE. Has elegido piedra y el pc ha elegido: piedra\n",
            " \n",
            "Para empezar a jugar digita piedra, papel o tijera - papel\n",
            "HAS GANADO!. Has elegido papel y el pc ha elegido: piedra\n",
            " \n",
            "Para empezar a jugar digita piedra, papel o tijera - TiJErA\n",
            "Oh no,PERDISTE. Has elegido tijera y el pc ha elegido: piedra\n",
            " \n",
            "Para empezar a jugar digita piedra, papel o tijera - alexandra\n",
            "OJO! Digita una opción valida\n",
            " \n"
          ]
        }
      ]
    }
  ]
}