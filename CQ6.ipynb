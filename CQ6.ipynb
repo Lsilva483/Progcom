{
  "nbformat": 4,
  "nbformat_minor": 0,
  "metadata": {
    "colab": {
      "provenance": [],
      "authorship_tag": "ABX9TyPup9uUIp5UKUs8xwKUnWL3",
      "include_colab_link": true
    },
    "kernelspec": {
      "name": "python3",
      "display_name": "Python 3"
    },
    "language_info": {
      "name": "python"
    }
  },
  "cells": [
    {
      "cell_type": "markdown",
      "metadata": {
        "id": "view-in-github",
        "colab_type": "text"
      },
      "source": [
        "<a href=\"https://colab.research.google.com/github/Lsilva483/Progcom/blob/main/CQ6.ipynb\" target=\"_parent\"><img src=\"https://colab.research.google.com/assets/colab-badge.svg\" alt=\"Open In Colab\"/></a>"
      ]
    },
    {
      "cell_type": "markdown",
      "source": [
        "**EJEMPLO 1**\n",
        "\n"
      ],
      "metadata": {
        "id": "cQW48FsoePvn"
      }
    },
    {
      "cell_type": "code",
      "execution_count": null,
      "metadata": {
        "id": "I4Ac47TUdosg"
      },
      "outputs": [],
      "source": [
        "import random #IMPORT:Lo usamos para importar o traer a nuestro código alguna libreria o funcion disponible en python que se necesite.\n",
        "import time\n",
        "print(\"Bienvenido!,esto es PIEDRA PAPEL O TIJERA\")\n",
        "print(\" \")\n",
        "\n",
        "while True: #WHILE:Es un ciclo que se usa cuando no se sabe cuantas veces se repite una acción.  TRUE:Se usa para indicarle al código que mientras la condición sea verdadera se ejecuta el cuerpo del bucle.\n",
        "  YOU=input(\"Para empezar a jugar digita piedra, papel o tijera - \").lower()\n",
        "  time.sleep(0.4)\n",
        "  PC=random.choice([\"piedra\", \"tijera\", \"papel\"]) \n",
        "  time.sleep(0.4)\n",
        "  if YOU!=\"piedra\" and YOU!=\"papel\" and YOU!=\"tijera\":\n",
        "    time.sleep(0.4)\n",
        "    print(\"OJO! Digita una opción valida\")\n",
        "    print(\" \")\n",
        "    continue  #CONTINUE:Se usa para indicarle al código que si se cumple esa condicion, se reininicia el codigo y si no, pasa el ciclo ejecutando el cuerpo de bucle.\n",
        "\n",
        "  if YOU==PC: #IF:Es una condición que evalua un bloque de código, sí la condición es verdadera se ejecuta.\n",
        "    print(\"\\U0001F922 EMPATE. Has elegido\",YOU,\"y el pc ha elegido:\",PC) \n",
        "    time.sleep(0.4)\n",
        "    print(\" \")\n",
        "  elif YOU==\"piedra\" and PC==\"tijera\": #ELIF: Permite la ejecución de múltiples condiciones de forma jerárquica\n",
        "    print(\"HAS GANADO!. Has elegido\",YOU,\"y el pc ha elegido:\",PC)\n",
        "    time.sleep(0.4)\n",
        "    print(\" \")\n",
        "  elif YOU==\"papel\" and PC==\"piedra\": #AND:Es uno de los operadores lógicos de python y evalúa si el valor del lado izquierdo y el lado derecho se cumple.\n",
        "    print(\"HAS GANADO!. Has elegido\",YOU,\"y el pc ha elegido:\",PC)\n",
        "    time.sleep(0.4)\n",
        "    print(\" \")\n",
        "  elif YOU==\"tijera\" and PC==\"papel\":\n",
        "    print(\"HAS GANADO!. Has elegido\",YOU,\"y el pc ha elegido:\",PC)\n",
        "    time.sleep(0.4)\n",
        "    print(\" \")\n",
        "  else: #ELSE:Esta directamente relacionado con la sentencia if, ya que si esta condición no es verdadera ejecuta el bloque de código que tiene else;es importante tener en cuenta la sintaxis de else (else: )\n",
        "    print(\"Oh no,PERDISTE. Has elegido\",YOU,\"y el pc ha elegido:\",PC)\n",
        "    time.sleep(0.4)\n",
        "    print(\" \")\n",
        "    \n",
        "\n",
        "\n"
      ]
    },
    {
      "cell_type": "markdown",
      "source": [
        "**EJEMPLO 2**"
      ],
      "metadata": {
        "id": "0R7BQ5HqfPXj"
      }
    },
    {
      "cell_type": "code",
      "source": [
        "L=str(input(\"Digita una letra \"))\n",
        "L=L.lower()\n",
        "if L==\"a\" or L==\"e\" or L==\"i\" or L==\"o\" or L==\"u\": # OR:Es uno de los operadores lógicos de python y evalúa si uno de los valores del lado izquierdo o del lado derecho es verdadero.\n",
        "  print(L, \"es una vocal\")\n",
        "else:\n",
        "  print(L, \"es una consonante\")"
      ],
      "metadata": {
        "id": "NgKmbaZwfStD"
      },
      "execution_count": null,
      "outputs": []
    },
    {
      "cell_type": "markdown",
      "source": [
        "**EJEMPLO 3**"
      ],
      "metadata": {
        "id": "hSS3tSQuytku"
      }
    },
    {
      "cell_type": "code",
      "source": [
        "N=int(input(\"Digita un número\"))\n",
        "def valor_absoluto(número): # def:Se usa para definir nuestras propias funciones, se define con un nombre, un argumento, un código a ejecutar y unos parámetros de salida.Tambien se puede llamar en cualquier parte del código usando otro argumento.\n",
        "  if número >=0:\n",
        "    return número  #RETURN: Es la expresión que permite terminar la ejecución de una función y devolver un valor.\n",
        "  else:\n",
        "    return - número\n",
        "print(valor_absoluto(N))  "
      ],
      "metadata": {
        "id": "4RrBrth6yziv"
      },
      "execution_count": null,
      "outputs": []
    },
    {
      "cell_type": "markdown",
      "source": [
        "**EJEMPLO 4**\n"
      ],
      "metadata": {
        "id": "Wo3hY-al7x0S"
      }
    },
    {
      "cell_type": "code",
      "source": [
        "n=\"*\"\n",
        "\n",
        "for i in range (1,11,1): #for:Es un bucle usado para recorrer los elementos de una lista, tupla, conjunto, diccionario u otro objeto iterable y ejecutar un bloque de código.\n",
        " print((n*i).center(20))  #in: Es un operador que identifica pertencia en alguna secuencia como una lista, un rango, una tupla,...que devuelve el dato si el valor especificado se encuentra en la seccuencia.\n",
        " "
      ],
      "metadata": {
        "id": "ZpibvLcN73KD"
      },
      "execution_count": null,
      "outputs": []
    },
    {
      "cell_type": "markdown",
      "source": [
        "**EJEMPLO 5**"
      ],
      "metadata": {
        "id": "CMlxS-aB-qVn"
      }
    },
    {
      "cell_type": "code",
      "source": [
        "from random import randint   #from:Es una palabra reservada de Python que le permite al código utilizar variables, funciones, clases, excepciones y cualquier otro objeto que estén dentro de un módulo.\n",
        "NUM1=int(randint(0,100))\n",
        "NUM2=int(randint(0,100))\n",
        "\n",
        "print(\"¡Bienvenido!,evalua tus conocimientos,elige la operación que desees:\")\n",
        "print(\"Digita A, si deseas SUMAR \")\n",
        "print(\"Digita B, si deseas RESTAR \")\n",
        "print(\"Digita C, si deseas MULTIPLICAR \")\n",
        "print(\"Digita D, si deseas DIVIDIR \")\n",
        "\n",
        "X=str(input(\"¿A,B,C,D? \"))\n",
        "X=X.lower()\n",
        "\n",
        "if X==\"a\":\n",
        "  print(\"Resuelve la siguiente suma\",NUM1,\"+\",NUM2)\n",
        "  RTA=NUM1+NUM2\n",
        "  RESPUESTA=int(input(\"Digite la respuesta \"))\n",
        "  if RESPUESTA==RTA:\n",
        "    print(\"En hora buena!\")\n",
        "  else:\n",
        "    print(\"Te has equivocado\")\n",
        "elif X==\"b\":\n",
        "  print(\"Resuelve la siguiente resta\",NUM1,\"-\",NUM2)\n",
        "  RTA=NUM1-NUM2\n",
        "  RESPUESTA=int(input(\"Digite la respuesta \"))\n",
        "  if RESPUESTA==RTA:\n",
        "    print(\"En hora buena!\")\n",
        "  else:\n",
        "    print(\"Te has equivocado\")\n",
        "elif X==\"c\":\n",
        "  print(\"Resuelve la siguiente multiplicación\",NUM1,\"X\",NUM2)\n",
        "  RTA=NUM1*NUM2\n",
        "  RESPUESTA=int(input(\"Digite la respuesta \"))\n",
        "  if RESPUESTA==RTA:\n",
        "    print(\"En hora buena!\")\n",
        "  else:\n",
        "    print(\"Te has equivocado\")\n",
        "elif X==\"d\":\n",
        "  print(\"Resuelve la siguiente división\",NUM1,\"/\",NUM2)\n",
        "  RTA=NUM1/NUM2\n",
        "  RESPUESTA=int(input(\"Digite la respuesta \"))\n",
        "  if RESPUESTA==RTA:\n",
        "    print(\"En hora buena!\")\n",
        "  else:\n",
        "    print(\"Te has equivocado\")\n"
      ],
      "metadata": {
        "id": "szwR9hS9-t9J"
      },
      "execution_count": null,
      "outputs": []
    },
    {
      "cell_type": "markdown",
      "source": [
        "\n",
        " is. Esta palabra clave comprueba si dos variables se refieren al mismo objeto.\n"
      ],
      "metadata": {
        "id": "KNqd0t5GoESU"
      }
    },
    {
      "cell_type": "markdown",
      "source": [
        "**EJEMPLO 6**"
      ],
      "metadata": {
        "id": "-T4uEkTF25kR"
      }
    },
    {
      "cell_type": "code",
      "source": [
        "x= 20\n",
        "y= None #None: Es un tipo de dato de phyton que representa la ausencia de un valor, es usado cuando se necesita almacenar algo que no se confunda con un valor real en una variable.\n",
        "try:   # try - except: Son bloques usados cuando el codigo a ejecutar podria presentar errores , asi que se ejecuta el codigo despues de try y sí arroja algun error se ejecuta lo que este despúes del except.\n",
        "  z=x+y\n",
        "  print(z)\n",
        "except:\n",
        "  print(\"Una de las variables esta vacía\")"
      ],
      "metadata": {
        "colab": {
          "base_uri": "https://localhost:8080/"
        },
        "id": "GaPhXkLntzDH",
        "outputId": "c94c9437-3e96-423e-fb32-a68c4644e3e1"
      },
      "execution_count": 2,
      "outputs": [
        {
          "output_type": "stream",
          "name": "stdout",
          "text": [
            "Una de las variables esta vacía\n"
          ]
        }
      ]
    },
    {
      "cell_type": "markdown",
      "source": [
        "**EJEMPLO 7**"
      ],
      "metadata": {
        "id": "s5kWYpzD8kGy"
      }
    },
    {
      "cell_type": "code",
      "source": [
        "class mascota: #class: Sirve para crear un tipo de dato definido por el usuario.\n",
        "  def ruido(self,texto):\n",
        "    print(texto)\n",
        "toby=mascota()\n",
        "toby.ruido(\"Estoy ladrando fuertemente\")"
      ],
      "metadata": {
        "colab": {
          "base_uri": "https://localhost:8080/"
        },
        "id": "LH5plBZ96jWF",
        "outputId": "45cc7ccb-2a2d-49e4-ebad-431029c3f179"
      },
      "execution_count": 18,
      "outputs": [
        {
          "output_type": "stream",
          "name": "stdout",
          "text": [
            "Estoy ladrando fuertemente\n"
          ]
        }
      ]
    },
    {
      "cell_type": "markdown",
      "source": [
        "**EJEMPLO 8**"
      ],
      "metadata": {
        "id": "xldff3_U-ofi"
      }
    },
    {
      "cell_type": "code",
      "source": [
        "lista =[\"amarillo\", \"azul\", \"rojo\"] \n",
        "print(lista) \n",
        "del lista[1]  #del:Se usa para eliminar un objeto o un elemento de las funciones de phyton.\n",
        "print(lista)"
      ],
      "metadata": {
        "colab": {
          "base_uri": "https://localhost:8080/"
        },
        "id": "eWhvDJNI8jdV",
        "outputId": "99b1f389-f4a4-4d36-e98f-2993f7184cfb"
      },
      "execution_count": 19,
      "outputs": [
        {
          "output_type": "stream",
          "name": "stdout",
          "text": [
            "['amarillo', 'azul', 'rojo']\n",
            "['amarillo', 'rojo']\n"
          ]
        }
      ]
    },
    {
      "cell_type": "markdown",
      "source": [
        "**EJEMPLO 9**"
      ],
      "metadata": {
        "id": "B4V1H00b-r3y"
      }
    },
    {
      "cell_type": "code",
      "source": [
        "#global: se usa para modificar variables ya declaradas previamente\n",
        "paises = ['Brazil', 'Panama']\n",
        "\n",
        "def cambios():\n",
        "    global paises\n",
        "    paises = ['Brazil', 'Panama', 'Colombia', 'Venezuela']\n",
        "\n",
        "cambios()\n",
        "print(paises)"
      ],
      "metadata": {
        "colab": {
          "base_uri": "https://localhost:8080/"
        },
        "id": "bMqPE3GG-jJV",
        "outputId": "f5b77bab-7312-436e-c551-836f5637be6e"
      },
      "execution_count": 24,
      "outputs": [
        {
          "output_type": "stream",
          "name": "stdout",
          "text": [
            "['Brazil', 'Panama', 'Colombia', 'Venezuela']\n"
          ]
        }
      ]
    },
    {
      "cell_type": "markdown",
      "source": [
        "**EJEMPLO 10**"
      ],
      "metadata": {
        "id": "BHTyZerRmbPJ"
      }
    },
    {
      "cell_type": "code",
      "source": [
        "try:\n",
        "    x = 52/0.8\n",
        "except:\n",
        "    print(x)\n",
        "finally:\n",
        "    print(\"En matemáticas soy la mejor.\") #finally:Si ocurre algo que no este controlado, siempre siempre se ejecuta el bloque de código que tenga finally. "
      ],
      "metadata": {
        "colab": {
          "base_uri": "https://localhost:8080/"
        },
        "id": "9wfAcDx8meLq",
        "outputId": "fc426ef7-2afa-4f06-dc92-77e2670f5029"
      },
      "execution_count": 6,
      "outputs": [
        {
          "output_type": "stream",
          "name": "stdout",
          "text": [
            "En matemáticas soy la mejor.\n"
          ]
        }
      ]
    },
    {
      "cell_type": "markdown",
      "source": [
        "**EJEMPLO 11**"
      ],
      "metadata": {
        "id": "LytyL953pg0v"
      }
    },
    {
      "cell_type": "code",
      "source": [
        "def f(x, y, z=1):\n",
        "  return (x+y) * z\n",
        "f(5, 6)\n",
        "f(5, 6, 7)\n",
        "f = lambda x, y, z=1: (x+y) * z #LAMBDA:Se usa para crear una función anónima\n",
        "f(5, 6)\n",
        "f(5, 6, 7)"
      ],
      "metadata": {
        "colab": {
          "base_uri": "https://localhost:8080/"
        },
        "id": "47MeVemFpkl6",
        "outputId": "7a541459-3037-4a2e-b3a9-55518b8a0ee8"
      },
      "execution_count": 7,
      "outputs": [
        {
          "output_type": "execute_result",
          "data": {
            "text/plain": [
              "77"
            ]
          },
          "metadata": {},
          "execution_count": 7
        }
      ]
    },
    {
      "cell_type": "markdown",
      "source": [
        "**EJEMPLO 12**\n"
      ],
      "metadata": {
        "id": "tzAHp0aGqEfW"
      }
    },
    {
      "cell_type": "code",
      "source": [
        "try:\n",
        "    x = 52/0.8\n",
        "except:\n",
        "    pass #pass:Se usa cuando se crea una clase, método, función, bucle o condicional en el que no se define ningún comportamiento.\n",
        "finally:\n",
        "    print(\"En matemáticas soy la mejor.\")"
      ],
      "metadata": {
        "colab": {
          "base_uri": "https://localhost:8080/"
        },
        "id": "3FWADPA3qIPd",
        "outputId": "1fd53537-3506-481d-aff0-a4881aa12d46"
      },
      "execution_count": 8,
      "outputs": [
        {
          "output_type": "stream",
          "name": "stdout",
          "text": [
            "En matemáticas soy la mejor.\n"
          ]
        }
      ]
    },
    {
      "cell_type": "markdown",
      "source": [
        "**EJEMPLO 13**"
      ],
      "metadata": {
        "id": "VY6xXvbargF2"
      }
    },
    {
      "cell_type": "code",
      "source": [
        "def numeros_naturales():\n",
        "  n = 1\n",
        "  while True:\n",
        "    yield n\n",
        "    n += 1\n",
        "  for natural in numeros_naturales():\n",
        "    print(natural) #yield:Se usa dentro de una función al igual que ‘return’, salvo que ‘yield’ devuelve un generador."
      ],
      "metadata": {
        "id": "FRiDgwxYsfsA"
      },
      "execution_count": 19,
      "outputs": []
    },
    {
      "cell_type": "markdown",
      "source": [
        "**EJEMPLO 14**"
      ],
      "metadata": {
        "id": "ZBchKgNouNRt"
      }
    },
    {
      "cell_type": "code",
      "source": [
        "a = 0\n",
        "def outr():\n",
        "    a = 1\n",
        "    def innr():\n",
        "        nonlocal a  #nonlocal:indica que la variable dada sobre la que se trabaja no pertenece localmente a la función anidada dada. Sin embargo, esto no significa que la variable especificada con la palabra clave nonlocal sea una variable global.\n",
        "        a = 2\n",
        "        print(\"Variable Interna:\", a)\n",
        "    innr()\n",
        "    print(\"Variable Exterior:\", a)\n",
        "outr()\n",
        "print(\"Variable Global:\", a)"
      ],
      "metadata": {
        "colab": {
          "base_uri": "https://localhost:8080/"
        },
        "id": "MyEBOzvSuMuV",
        "outputId": "5e605670-4688-4f43-ad6f-8b2ec51ea8e8"
      },
      "execution_count": 22,
      "outputs": [
        {
          "output_type": "stream",
          "name": "stdout",
          "text": [
            "Variable Interna: 2\n",
            "Variable Exterior: 2\n",
            "Variable Global: 0\n"
          ]
        }
      ]
    },
    {
      "cell_type": "markdown",
      "source": [
        "**EJEMPLO 15**"
      ],
      "metadata": {
        "id": "Qlp3UbDWxqwd"
      }
    },
    {
      "cell_type": "code",
      "source": [
        "num=0\n",
        "while(num<10):\n",
        "  num=num+1\n",
        "  if num==8:\n",
        "    break #break: Se utiliza en el interior de los bucles for y while para romper su comportamiento normal\n",
        "  print(num)"
      ],
      "metadata": {
        "colab": {
          "base_uri": "https://localhost:8080/"
        },
        "id": "C-GsuXTgxvVy",
        "outputId": "9451284c-1661-4bac-b8d7-ed8f81518c28"
      },
      "execution_count": 26,
      "outputs": [
        {
          "output_type": "stream",
          "name": "stdout",
          "text": [
            "1\n",
            "2\n",
            "3\n",
            "4\n",
            "5\n",
            "6\n",
            "7\n"
          ]
        }
      ]
    },
    {
      "cell_type": "markdown",
      "source": [
        "**EJEMPLO 16**"
      ],
      "metadata": {
        "id": "IlLt3b0e5Jov"
      }
    },
    {
      "cell_type": "code",
      "source": [
        "num=0\n",
        "while(num<10):\n",
        "  num=num+1\n",
        "  if num==8:\n",
        "    print(num)\n",
        "if not num<8: #not:Devuelve lo contrario, True si es Falso y viceversa\n",
        "  print(\"Número menor\")"
      ],
      "metadata": {
        "colab": {
          "base_uri": "https://localhost:8080/"
        },
        "id": "DbDmAO2izNRJ",
        "outputId": "dbb97b45-2ee2-4984-aae5-932659e5cd84"
      },
      "execution_count": 35,
      "outputs": [
        {
          "output_type": "stream",
          "name": "stdout",
          "text": [
            "8\n",
            "Número menor\n"
          ]
        }
      ]
    },
    {
      "cell_type": "markdown",
      "source": [
        "**EJEMPLO 17**"
      ],
      "metadata": {
        "id": "7bQKX6iy8A8E"
      }
    },
    {
      "cell_type": "code",
      "source": [
        "A=int(input(\"Ingrese un número \"))\n",
        "B=int(input(\"Ingrese otro número \"))\n",
        "if A%B is 0: # is:Se usa para probar si las dos variables se refieren al mismo objeto.\n",
        "  print(A,\"es múltiplo de \",B)\n",
        "else:\n",
        "  print(A,\"no es múltiplo de \",B)"
      ],
      "metadata": {
        "colab": {
          "base_uri": "https://localhost:8080/"
        },
        "id": "tLLEhfh75NSl",
        "outputId": "5c004bbb-4fe6-41b7-9dd3-c154eccfedba"
      },
      "execution_count": 36,
      "outputs": [
        {
          "output_type": "stream",
          "name": "stdout",
          "text": [
            "Ingrese un número 20\n",
            "Ingrese otro número 4\n",
            "20 es múltiplo de  4\n"
          ]
        }
      ]
    },
    {
      "cell_type": "markdown",
      "source": [
        "**EJEMPLO 18**"
      ],
      "metadata": {
        "id": "mHY5de968FxU"
      }
    },
    {
      "cell_type": "code",
      "source": [
        "import random as r #as: Se utiliza para crear un alias al importar un módulo.\n",
        "import time\n",
        "print(\"Bienvenido!,esto es PIEDRA, PAPEL, TIJERA, SPOCK, LAGARTO, PAPA, HEAVY\")\n",
        "print(\" \")\n",
        "\n",
        "while True:\n",
        "  YOU=input(\"Para empezar a jugar digita piedra, papel, tijera, spock, lagarto, papa o heavy - \").lower()\n",
        "  time.sleep(0.4) \n",
        "  PC=r.choice([\"piedra\", \"tijera\", \"papel\", \"spock\", \"lagarto\", \"papa\", \"heavy\"]) \n",
        "  time.sleep(0.4)\n",
        "  if YOU!=\"piedra\" and YOU!=\"papel\" and YOU!=\"tijera\" and YOU!=\"spock\" and YOU!=\"lagarto\" and YOU!=\"papa\" and YOU!=\"heavy\":\n",
        "    time.sleep(0.4)\n",
        "    print(\"OJO! Digita una opción valida\")\n",
        "    print(\" \")\n",
        "    continue \n",
        "\n",
        "  if YOU==PC:\n",
        "    print(\"\\U0001F922 EMPATE. Has elegido\",YOU,\"y el pc ha elegido:\",PC) \n",
        "    time.sleep(0.4)\n",
        "    print(\" \")\n",
        "  elif YOU==\"piedra\" and PC==\"tijera\":\n",
        "    print(\"HAS GANADO!. Has elegido\",YOU,\"y el pc ha elegido:\",PC)\n",
        "    time.sleep(0.4)\n",
        "    print(\" \")\n",
        "  elif YOU==\"papel\" and PC==\"piedra\":\n",
        "    print(\"HAS GANADO!. Has elegido\",YOU,\"y el pc ha elegido:\",PC)\n",
        "    time.sleep(0.4)\n",
        "    print(\" \")\n",
        "  elif YOU==\"tijera\" and PC==\"papel\":\n",
        "    print(\"HAS GANADO!. Has elegido\",YOU,\"y el pc ha elegido:\",PC)\n",
        "    time.sleep(0.4)\n",
        "    print(\" \")\n",
        "  elif YOU==\"piedra\" and PC==\"lagarto\":\n",
        "    print(\"HAS GANADO!. Has elegido\",YOU,\"y el pc ha elegido:\",PC)\n",
        "    time.sleep(0.4)\n",
        "    print(\" \")\n",
        "  elif YOU==\"lagarto\" and PC==\"spock\":\n",
        "    print(\"HAS GANADO!. Has elegido\",YOU,\"y el pc ha elegido:\",PC)\n",
        "    time.sleep(0.4)\n",
        "    print(\" \")\n",
        "  elif YOU==\"spock\" and PC==\"tijeras\":\n",
        "    print(\"HAS GANADO!. Has elegido\",YOU,\"y el pc ha elegido:\",PC)\n",
        "    time.sleep(0.4)\n",
        "    print(\" \")\n",
        "  elif YOU==\"tijera\" and PC==\"lagarto\":\n",
        "    print(\"HAS GANADO!. Has elegido\",YOU,\"y el pc ha elegido:\",PC)\n",
        "    time.sleep(0.4)\n",
        "    print(\" \")\n",
        "  elif YOU==\"lagarto\" and PC==\"papel\":\n",
        "    print(\"HAS GANADO!. Has elegido\",YOU,\"y el pc ha elegido:\",PC)\n",
        "    time.sleep(0.4)\n",
        "    print(\" \")\n",
        "  elif YOU==\"papel\" and PC==\"spock\":\n",
        "    print(\"HAS GANADO!. Has elegido\",YOU,\"y el pc ha elegido:\",PC)\n",
        "    time.sleep(0.4)\n",
        "    print(\" \")\n",
        "  elif YOU==\"spock\" and PC==\"piedra\":\n",
        "    print(\"HAS GANADO!. Has elegido\",YOU,\"y el pc ha elegido:\",PC)\n",
        "    time.sleep(0.4)\n",
        "    print(\" \")\n",
        "  elif YOU==\"heavy\" and PC==\"papa\":\n",
        "    print(\"HAS GANADO!. Has elegido\",YOU,\"y el pc ha elegido:\",PC)\n",
        "    time.sleep(0.4)\n",
        "    print(\" \")\n",
        "  elif YOU==\"heavy\" and PC==\"lagarto\":\n",
        "    print(\"HAS GANADO!. Has elegido\",YOU,\"y el pc ha elegido:\",PC)\n",
        "    time.sleep(0.4)\n",
        "    print(\" \")\n",
        "  elif YOU==\"papa\" and PC==\"piedra\":\n",
        "    print(\"HAS GANADO!. Has elegido\",YOU,\"y el pc ha elegido:\",PC)\n",
        "    time.sleep(0.4)\n",
        "    print(\" \")\n",
        "  elif YOU==\"papa\" and PC==\"papel\":\n",
        "    print(\"HAS GANADO!. Has elegido\",YOU,\"y el pc ha elegido:\",PC)\n",
        "    time.sleep(0.4)\n",
        "    print(\" \")\n",
        "  \n",
        "  else:\n",
        "    print(\"Oh no,PERDISTE. Has elegido\",YOU,\"y el pc ha elegido:\",PC)\n",
        "    time.sleep(0.4)\n",
        "    print(\" \")"
      ],
      "metadata": {
        "id": "aCraVMwY-Hdj"
      },
      "execution_count": null,
      "outputs": []
    },
    {
      "cell_type": "markdown",
      "source": [
        "**EJEMPLO 19**"
      ],
      "metadata": {
        "id": "KUNw0M9r-fay"
      }
    },
    {
      "cell_type": "code",
      "source": [
        "x = 1\n",
        "y = 0 \n",
        "assert y != 0, \"Operación Inválida, El denominador no debe ser cero\" \n",
        "print(x / y) #Assert:Se utiliza con fines de depuración"
      ],
      "metadata": {
        "colab": {
          "base_uri": "https://localhost:8080/",
          "height": 217
        },
        "id": "QUEAh6BU_mMb",
        "outputId": "ef6902fb-353e-4715-878a-410f6be8379d"
      },
      "execution_count": 50,
      "outputs": [
        {
          "output_type": "error",
          "ename": "AssertionError",
          "evalue": "ignored",
          "traceback": [
            "\u001b[0;31m---------------------------------------------------------------------------\u001b[0m",
            "\u001b[0;31mAssertionError\u001b[0m                            Traceback (most recent call last)",
            "\u001b[0;32m<ipython-input-50-be53c7e16d0e>\u001b[0m in \u001b[0;36m<module>\u001b[0;34m\u001b[0m\n\u001b[1;32m      1\u001b[0m \u001b[0mx\u001b[0m \u001b[0;34m=\u001b[0m \u001b[0;36m1\u001b[0m\u001b[0;34m\u001b[0m\u001b[0;34m\u001b[0m\u001b[0m\n\u001b[1;32m      2\u001b[0m \u001b[0my\u001b[0m \u001b[0;34m=\u001b[0m \u001b[0;36m0\u001b[0m\u001b[0;34m\u001b[0m\u001b[0;34m\u001b[0m\u001b[0m\n\u001b[0;32m----> 3\u001b[0;31m \u001b[0;32massert\u001b[0m \u001b[0my\u001b[0m \u001b[0;34m!=\u001b[0m \u001b[0;36m0\u001b[0m\u001b[0;34m,\u001b[0m \u001b[0;34m\"Operación Inválida, El denominador no debe ser cero\"\u001b[0m\u001b[0;34m\u001b[0m\u001b[0;34m\u001b[0m\u001b[0m\n\u001b[0m\u001b[1;32m      4\u001b[0m \u001b[0mprint\u001b[0m\u001b[0;34m(\u001b[0m\u001b[0mx\u001b[0m \u001b[0;34m/\u001b[0m \u001b[0my\u001b[0m\u001b[0;34m)\u001b[0m\u001b[0;34m\u001b[0m\u001b[0;34m\u001b[0m\u001b[0m\n",
            "\u001b[0;31mAssertionError\u001b[0m: Operación Inválida, El denominador no debe ser cero"
          ]
        }
      ]
    },
    {
      "cell_type": "markdown",
      "source": [
        "**EJEMPLO 20**"
      ],
      "metadata": {
        "id": "TvjYTIF9A9ob"
      }
    },
    {
      "cell_type": "code",
      "source": [
        "a=5\n",
        "b=0\n",
        "\n",
        "def division(a, b): #raise:Se usa para crear excepciones, qué hacer cuando ocurre una excepción, igual que ‘except y ‘try’\n",
        "    try:\n",
        "        return a / b\n",
        "    except ZeroDivisionError as ex:\n",
        "        raise ValueError('b must not zero')\n",
        "\n",
        "division(a, b)"
      ],
      "metadata": {
        "colab": {
          "base_uri": "https://localhost:8080/",
          "height": 432
        },
        "id": "6Okwr9ajA9aG",
        "outputId": "4dfc16f7-de97-4501-c93e-294bf1b84bf6"
      },
      "execution_count": 51,
      "outputs": [
        {
          "output_type": "error",
          "ename": "ValueError",
          "evalue": "ignored",
          "traceback": [
            "\u001b[0;31m---------------------------------------------------------------------------\u001b[0m",
            "\u001b[0;31mZeroDivisionError\u001b[0m                         Traceback (most recent call last)",
            "\u001b[0;32m<ipython-input-51-f233537d5e1d>\u001b[0m in \u001b[0;36mdivision\u001b[0;34m(a, b)\u001b[0m\n\u001b[1;32m      5\u001b[0m     \u001b[0;32mtry\u001b[0m\u001b[0;34m:\u001b[0m\u001b[0;34m\u001b[0m\u001b[0;34m\u001b[0m\u001b[0m\n\u001b[0;32m----> 6\u001b[0;31m         \u001b[0;32mreturn\u001b[0m \u001b[0ma\u001b[0m \u001b[0;34m/\u001b[0m \u001b[0mb\u001b[0m\u001b[0;34m\u001b[0m\u001b[0;34m\u001b[0m\u001b[0m\n\u001b[0m\u001b[1;32m      7\u001b[0m     \u001b[0;32mexcept\u001b[0m \u001b[0mZeroDivisionError\u001b[0m \u001b[0;32mas\u001b[0m \u001b[0mex\u001b[0m\u001b[0;34m:\u001b[0m\u001b[0;34m\u001b[0m\u001b[0;34m\u001b[0m\u001b[0m\n",
            "\u001b[0;31mZeroDivisionError\u001b[0m: division by zero",
            "\nDuring handling of the above exception, another exception occurred:\n",
            "\u001b[0;31mValueError\u001b[0m                                Traceback (most recent call last)",
            "\u001b[0;32m<ipython-input-51-f233537d5e1d>\u001b[0m in \u001b[0;36m<module>\u001b[0;34m\u001b[0m\n\u001b[1;32m      8\u001b[0m         \u001b[0;32mraise\u001b[0m \u001b[0mValueError\u001b[0m\u001b[0;34m(\u001b[0m\u001b[0;34m'b must not zero'\u001b[0m\u001b[0;34m)\u001b[0m\u001b[0;34m\u001b[0m\u001b[0;34m\u001b[0m\u001b[0m\n\u001b[1;32m      9\u001b[0m \u001b[0;34m\u001b[0m\u001b[0m\n\u001b[0;32m---> 10\u001b[0;31m \u001b[0mdivision\u001b[0m\u001b[0;34m(\u001b[0m\u001b[0ma\u001b[0m\u001b[0;34m,\u001b[0m \u001b[0mb\u001b[0m\u001b[0;34m)\u001b[0m\u001b[0;34m\u001b[0m\u001b[0;34m\u001b[0m\u001b[0m\n\u001b[0m",
            "\u001b[0;32m<ipython-input-51-f233537d5e1d>\u001b[0m in \u001b[0;36mdivision\u001b[0;34m(a, b)\u001b[0m\n\u001b[1;32m      6\u001b[0m         \u001b[0;32mreturn\u001b[0m \u001b[0ma\u001b[0m \u001b[0;34m/\u001b[0m \u001b[0mb\u001b[0m\u001b[0;34m\u001b[0m\u001b[0;34m\u001b[0m\u001b[0m\n\u001b[1;32m      7\u001b[0m     \u001b[0;32mexcept\u001b[0m \u001b[0mZeroDivisionError\u001b[0m \u001b[0;32mas\u001b[0m \u001b[0mex\u001b[0m\u001b[0;34m:\u001b[0m\u001b[0;34m\u001b[0m\u001b[0;34m\u001b[0m\u001b[0m\n\u001b[0;32m----> 8\u001b[0;31m         \u001b[0;32mraise\u001b[0m \u001b[0mValueError\u001b[0m\u001b[0;34m(\u001b[0m\u001b[0;34m'b must not zero'\u001b[0m\u001b[0;34m)\u001b[0m\u001b[0;34m\u001b[0m\u001b[0;34m\u001b[0m\u001b[0m\n\u001b[0m\u001b[1;32m      9\u001b[0m \u001b[0;34m\u001b[0m\u001b[0m\n\u001b[1;32m     10\u001b[0m \u001b[0mdivision\u001b[0m\u001b[0;34m(\u001b[0m\u001b[0ma\u001b[0m\u001b[0;34m,\u001b[0m \u001b[0mb\u001b[0m\u001b[0;34m)\u001b[0m\u001b[0;34m\u001b[0m\u001b[0;34m\u001b[0m\u001b[0m\n",
            "\u001b[0;31mValueError\u001b[0m: b must not zero"
          ]
        }
      ]
    },
    {
      "cell_type": "markdown",
      "source": [
        "**EJEMPLO 21**"
      ],
      "metadata": {
        "id": "4xWYZEZSB7Jd"
      }
    },
    {
      "cell_type": "code",
      "source": [
        "with EXPRESSION as TARGET: #with:Se usa para simplificar el manejo de excepciones\n",
        "    SUITE"
      ],
      "metadata": {
        "id": "FR8BeN_0DGPq"
      },
      "execution_count": 54,
      "outputs": []
    },
    {
      "cell_type": "code",
      "source": [
        "# es equivalente a:\n",
        "manager = (EXPRESSION)\n",
        "enter = type(manager).__enter__\n",
        "exit = type(manager).__exit__\n",
        "value = enter(manager)\n",
        "hit_except = False\n",
        "\n",
        "try:\n",
        "    TARGET = value\n",
        "    SUITE\n",
        "except:\n",
        "    hit_except = True\n",
        "    if not exit(manager, *sys.exc_info()):\n",
        "        raise\n",
        "finally:\n",
        "    if not hit_except:\n",
        "        exit(manager, None, None, None)"
      ],
      "metadata": {
        "id": "PZe-du0EEGTU"
      },
      "execution_count": null,
      "outputs": []
    }
  ]
}